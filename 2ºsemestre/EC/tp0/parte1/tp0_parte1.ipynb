{
 "cells": [
  {
   "cell_type": "markdown",
   "metadata": {},
   "source": [
    "# TP0 - Estruturas Criptogŕaficas\n",
    "\n",
    "## Elementos do grupo 4\n",
    "+ André Morais, A83899\n",
    "+ Tiago Magalhães, A84485\n",
    "\n",
    "## PARTE 1\n",
    "\n",
    "### crypto.py\n",
    "\n",
    "**Primeiramente foi criado um módulo onde se encontram as primitivas criptográficas a serem utilizadas na comunicação entre os agentes**"
   ]
  },
  {
   "cell_type": "code",
   "execution_count": 1,
   "metadata": {},
   "outputs": [],
   "source": [
    "import os\n",
    "from cryptography.hazmat.primitives.ciphers.aead import AESGCM\n",
    "from cryptography.hazmat.primitives import hashes\n",
    "from cryptography.hazmat.primitives.kdf.pbkdf2 import PBKDF2HMAC\n",
    "from cryptography.hazmat.primitives import hashes, hmac\n",
    "import cryptography.exceptions \n",
    "\n",
    "NONCE_LEN = 12 # Bytes"
   ]
  },
  {
   "cell_type": "markdown",
   "metadata": {},
   "source": [
    "**Recebe uma password e utiliza um KDF(PBKDF), que é tipicamente usado para derivar uma chave a partir de uma password.**\n",
    "\n",
    "**Args:**\n",
    "+ password (bytes): Password\n",
    "+ salt (bytes): Salt\n",
    "\n",
    "**Returns:**\n",
    "+ bytes: Chave derivada."
   ]
  },
  {
   "cell_type": "code",
   "execution_count": 11,
   "metadata": {},
   "outputs": [],
   "source": [
    "    def derivate_key(password, salt):\n",
    "        kdf = PBKDF2HMAC(\n",
    "            algorithm=hashes.SHA256(),\n",
    "            length=32,\n",
    "            salt=salt,\n",
    "            iterations=100000,\n",
    "            )\n",
    "        key = kdf.derive(password)\n",
    "        return key"
   ]
  },
  {
   "cell_type": "markdown",
   "metadata": {},
   "source": [
    "**Gera digest para uma mensagem.**\n",
    "\n",
    "**Args:**\n",
    "+ key (bytes): Chave usada pelo hmac (é recomendado que o seu tamanho seja igual ao comprimento do digest)\n",
    "+ message (bytes): Mensagem \n",
    "\n",
    "**Returns:**\n",
    "+ bytes: digest"
   ]
  },
  {
   "cell_type": "code",
   "execution_count": 13,
   "metadata": {},
   "outputs": [],
   "source": [
    "    def authenticate_HMAC(key, message):\n",
    "        h = hmac.HMAC(key, hashes.SHA256())\n",
    "        h.update(message)\n",
    "        digest = h.finalize()\n",
    "        return digest"
   ]
  },
  {
   "cell_type": "markdown",
   "metadata": {},
   "source": [
    "**Valida digest.**\n",
    "\n",
    "**Args:**\n",
    "+ key (bytes): Chave usada pelo hmac\n",
    "+ message (bytes): Mensagem\n",
    "+ signature (bytes): Bytes que irão ser usados para comparar com o digest\n",
    "\n",
    "**Returns:**\n",
    "+ bool: True se for válido, false se não for"
   ]
  },
  {
   "cell_type": "code",
   "execution_count": 18,
   "metadata": {},
   "outputs": [],
   "source": [
    "    def verify_HMAC(key, message, signature) :\n",
    "        h = hmac.HMAC(key, hashes.SHA256())\n",
    "        # gera digest para a mensagem\n",
    "        h.update(message)\n",
    "        try :\n",
    "            # verifica se o digest gerado acima é igual ao digest recebido como parâmetro\n",
    "            h.verify(signature)\n",
    "            return True\n",
    "        except cryptography.exceptions.InvalidSignature:\n",
    "            return False"
   ]
  },
  {
   "cell_type": "markdown",
   "metadata": {},
   "source": [
    "**Cifra mensagem.**\n",
    "\n",
    "**Args:**\n",
    "+ message (bytes): Mensagem a cifrar\n",
    "+ aad (bytes): Metadados que irão ser autenticados, mas não cifrados\n",
    "+ key (bytes): Chave\n",
    "\n",
    "**Returns:**\n",
    "+ tuplo: [nonce (bytes), texto cifrado (bytes)]."
   ]
  },
  {
   "cell_type": "code",
   "execution_count": 4,
   "metadata": {},
   "outputs": [],
   "source": [
    "    def encode(message, aad, key):\n",
    "        nonce = os.urandom(NONCE_LEN) # NIST recommends a 96-bit length\n",
    "        aad += nonce\n",
    "        aesgcm = AESGCM(key)\n",
    "        ct = aesgcm.encrypt(nonce, message, aad)\n",
    "        return nonce, ct "
   ]
  },
  {
   "cell_type": "markdown",
   "metadata": {},
   "source": [
    "**Decifra mensagem.**\n",
    "\n",
    "**Args:**\n",
    "+ ciphertext (bytes): Texto cifrado\n",
    "+ key (bytes): Chave\n",
    "\n",
    "**Returns:**\n",
    "+ tuplo: [código de erro (int), texto limpo(str)]."
   ]
  },
  {
   "cell_type": "code",
   "execution_count": 20,
   "metadata": {},
   "outputs": [],
   "source": [
    "    def decode(ciphertext, nonce, aad, key):\n",
    "        aesgcm = AESGCM(key)\n",
    "        try:\n",
    "            texto_limpo = aesgcm.decrypt(nonce, ciphertext, aad)\n",
    "        except cryptography.exceptions.InvalidTag: \n",
    "            # Falha na verificação da autenticidade \n",
    "            return 1, None\n",
    "        return None, texto_limpo.decode('utf-8')"
   ]
  },
  {
   "cell_type": "markdown",
   "metadata": {},
   "source": [
    "### emitter.py"
   ]
  },
  {
   "cell_type": "markdown",
   "metadata": {},
   "source": [
    "**Criação da classe Emitter que tem como função cifrar mensagem e construir o criptograma**"
   ]
  },
  {
   "cell_type": "code",
   "execution_count": 30,
   "metadata": {},
   "outputs": [],
   "source": [
    "import os\n",
    "import crypto\n",
    "\n",
    "class Emitter:\n",
    "    def __init__(self, password):\n",
    "        self.key = None\n",
    "        self.password = password\n",
    "        self.key_salt = os.urandom(16)"
   ]
  },
  {
   "cell_type": "markdown",
   "metadata": {},
   "source": [
    "**Derivação da chave a partir de uma password  usando um *KDF***"
   ]
  },
  {
   "cell_type": "code",
   "execution_count": 4,
   "metadata": {},
   "outputs": [],
   "source": [
    "    def derivate_key(self):\n",
    "        key = crypto.derivate_key(self.password.encode('utf-8'), self.key_salt)\n",
    "        self.key = key  "
   ]
  },
  {
   "cell_type": "markdown",
   "metadata": {},
   "source": [
    "**Função que irá cifrar e autenticar o texto limpo, bem como autenticar a chave e os metadados(digest da chave, nonce e salt), uma vez que estes são públicos e não precisam de ser cifrados**"
   ]
  },
  {
   "cell_type": "code",
   "execution_count": 1,
   "metadata": {},
   "outputs": [],
   "source": [
    "    def send_message(self, message):\n",
    "        key_digest = crypto.authenticate_HMAC(self.key, self.key)\n",
    "        aad = self.key_salt\n",
    "        nonce, ct = crypto.encode(message.encode('utf-8'), aad, self.key)\n",
    "        return key_digest + nonce + self.key_salt + ct"
   ]
  },
  {
   "cell_type": "markdown",
   "metadata": {},
   "source": [
    "### receiver.py"
   ]
  },
  {
   "cell_type": "markdown",
   "metadata": {},
   "source": [
    "**Criação da classe Receiver que tem como função decifrar o criptograma e construir a mensagem**"
   ]
  },
  {
   "cell_type": "code",
   "execution_count": 2,
   "metadata": {},
   "outputs": [],
   "source": [
    "import crypto\n",
    "\n",
    "KEY_DIGEST_LEN = 32 # Bytes\n",
    "NONCE_LEN = 12 # Bytes\n",
    "SALT_LEN = 16 # Bytes\n",
    "\n",
    "class Receiver:\n",
    "    def __init__(self, password):\n",
    "        self.key = None\n",
    "        self.password = password"
   ]
  },
  {
   "cell_type": "markdown",
   "metadata": {},
   "source": [
    "**Função que decompõe os dados enviados pelo emitter em várias componentes**"
   ]
  },
  {
   "cell_type": "code",
   "execution_count": 3,
   "metadata": {},
   "outputs": [],
   "source": [
    "    def unpack_data(self, dados):\n",
    "        # dados : key_digest + nonce + salt + mensagem\n",
    "        # 0 - 31 : key_digest (32 bytes)\n",
    "        # 32 - 43 : nonce para decode (12 bytes)\n",
    "        # 44 - 59 : salt para derivar chave (16 bytes)\n",
    "        # 60 ... : texto cifrado\n",
    "        key_digest = dados[:KEY_DIGEST_LEN]  # primeiros 32 bytes -> hash(keyEmitter)\n",
    "        nonce = dados[KEY_DIGEST_LEN:KEY_DIGEST_LEN + NONCE_LEN]\n",
    "        salt = dados[KEY_DIGEST_LEN + NONCE_LEN:KEY_DIGEST_LEN + NONCE_LEN + SALT_LEN]\n",
    "        ct = dados[KEY_DIGEST_LEN + NONCE_LEN + SALT_LEN:]\n",
    "        \n",
    "        return key_digest, ct, salt, nonce"
   ]
  },
  {
   "cell_type": "markdown",
   "metadata": {},
   "source": [
    "**Função que deriva uma chave a partir de uma password**"
   ]
  },
  {
   "cell_type": "code",
   "execution_count": 6,
   "metadata": {},
   "outputs": [],
   "source": [
    "    def derivate_key(self, dados):\n",
    "        salt = self.unpack_data(dados)[-2]\n",
    "        key = crypto.derivate_key(self.password.encode('utf-8'), salt)\n",
    "        self.key = key"
   ]
  },
  {
   "cell_type": "markdown",
   "metadata": {},
   "source": [
    "**Mostra o resultado da decifragem. Em caso de erro, significa que existiu uma falha na autenticidade**"
   ]
  },
  {
   "cell_type": "code",
   "execution_count": null,
   "metadata": {},
   "outputs": [],
   "source": [
    "    def show_results(self, error, message):\n",
    "        if error == None:\n",
    "            print(\"Texto decifrado:%s\" %message)\n",
    "        elif error == 1:\n",
    "            print(\"Falha na verificação da autenticidade.\")"
   ]
  },
  {
   "cell_type": "markdown",
   "metadata": {},
   "source": [
    "**Função que primeiramente irá autenticar a chave, através de um MAC, com o propósito de evitar uma decifragem de uma mensagem longa quando as chaves são diferentes, e depois decifrar a mensagem**"
   ]
  },
  {
   "cell_type": "code",
   "execution_count": 24,
   "metadata": {},
   "outputs": [],
   "source": [
    "    def read_message(self, ct):\n",
    "        key_digest, ct, salt, nonce = self.unpack_data(ct)\n",
    "        # Autentica chave\n",
    "        isValid = crypto.verify_HMAC(self.key, self.key, key_digest)\n",
    "        if isValid == False:\n",
    "            raise Exception(\"Falha na autenticidade da chave\") \n",
    "        aad = salt + nonce \n",
    "        error_code, texto_limpo = crypto.decode(ct, nonce, aad, self.key)\n",
    "        self.show_results(error_code, texto_limpo)"
   ]
  },
  {
   "cell_type": "markdown",
   "metadata": {},
   "source": [
    "### main.py"
   ]
  },
  {
   "cell_type": "markdown",
   "metadata": {},
   "source": [
    "**Simulação de uma comunicação assíncrona entre dois agentes**\n",
    "\n",
    "**Emitter:**\n",
    "1. Escrever a password\n",
    "2. Faz uma derivação da chave usando um *KDF*\n",
    "3. Ciframos a mensagem com esta chave criada e envia dados para o Receiver\n",
    "\n",
    "**Receiver:**\n",
    "1. Voltamos a escrever a password\n",
    "2. Volta a fazer a mesma derivação usando um *KDF*\n",
    "3. Verficamos se a tag da chave é a mesma\n",
    "4. Se a tag da chave for a mesma, decifra a mensagem"
   ]
  },
  {
   "cell_type": "code",
   "execution_count": 1,
   "metadata": {},
   "outputs": [
    {
     "name": "stdin",
     "output_type": "stream",
     "text": [
      "Insira a sua password:  1234qwerty\n",
      "Insira a sua password:  1234qwerty\n"
     ]
    },
    {
     "name": "stdout",
     "output_type": "stream",
     "text": [
      "Texto decifrado: Segredo que não se pode partilhar\n"
     ]
    }
   ],
   "source": [
    "import os\n",
    "import time\n",
    "from emitter import Emitter\n",
    "from receiver import Receiver\n",
    "\n",
    "\n",
    "def read_input():\n",
    "    password = input(\"Insira a sua password: \")\n",
    "    return password\n",
    "\n",
    "\n",
    "def main():\n",
    "    # Leitura password do emmiter\n",
    "    password = read_input()\n",
    "    emmiter = Emitter(password)\n",
    "    # Deriva chave do emitter\n",
    "    emmiter.derivate_key()\n",
    "    # Emmiter envia dados: key_digest + nonce + salt + mensagem\n",
    "    dados = emmiter.send_message(\"Segredo que não se pode partilhar\")\n",
    "\n",
    "    # Leitura password do receiver\n",
    "    password = read_input()\n",
    "    receiver = Receiver(password)\n",
    "    # Deriva chave do receiver\n",
    "    receiver.derivate_key(dados)\n",
    "    try:\n",
    "        # Receiver decifra mensagem\n",
    "        receiver.read_message(dados)\n",
    "    except:\n",
    "        # Falha na autenticação da chave\n",
    "        print(\"Falha na autenticação da chave\")  \n",
    "\n",
    "\n",
    "if __name__ == \"__main__\":\n",
    "    main()"
   ]
  }
 ],
 "metadata": {
  "kernelspec": {
   "display_name": "Python 3",
   "language": "python",
   "name": "python3"
  },
  "language_info": {
   "codemirror_mode": {
    "name": "ipython",
    "version": 3
   },
   "file_extension": ".py",
   "mimetype": "text/x-python",
   "name": "python",
   "nbconvert_exporter": "python",
   "pygments_lexer": "ipython3",
   "version": "3.8.6"
  }
 },
 "nbformat": 4,
 "nbformat_minor": 4
}
