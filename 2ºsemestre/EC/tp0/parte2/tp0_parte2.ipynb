{
 "cells": [
  {
   "cell_type": "markdown",
   "metadata": {},
   "source": [
    "# TP0 - Estruturas Criptogŕaficas\n",
    "\n",
    "## Elementos do grupo 4\n",
    "+ André Morais, A83899\n",
    "+ Tiago Magalhães, A84485\n",
    "\n",
    "## PARTE 2\n",
    "\n",
    "### cifra.py"
   ]
  },
  {
   "cell_type": "markdown",
   "metadata": {},
   "source": [
    "**Definir variáveis globais e respetivos Imports**"
   ]
  },
  {
   "cell_type": "code",
   "execution_count": 9,
   "metadata": {},
   "outputs": [],
   "source": [
    "import os\n",
    "import random\n",
    "import sys\n",
    "import time \n",
    "\n",
    "from cryptography.hazmat.primitives.kdf.pbkdf2 import PBKDF2HMAC\n",
    "from cryptography.hazmat.primitives import hashes, hmac\n",
    "from cryptography.hazmat.primitives import padding\n",
    "\n",
    "N = 1\n",
    "BLOCK_SIZE = 8 # 64 bits (8 bytes)"
   ]
  },
  {
   "cell_type": "markdown",
   "metadata": {},
   "source": [
    "**Derivação da chave a partir de uma password  usando um *KDF***"
   ]
  },
  {
   "cell_type": "code",
   "execution_count": 10,
   "metadata": {},
   "outputs": [],
   "source": [
    "def derivate_key(password, salt):\n",
    "    # derive\n",
    "    kdf = PBKDF2HMAC(\n",
    "        algorithm=hashes.SHA256(),\n",
    "        length=32,\n",
    "        salt=salt,\n",
    "        iterations=100000,\n",
    "        )\n",
    "    key = kdf.derive(password)\n",
    "    return key"
   ]
  },
  {
   "cell_type": "markdown",
   "metadata": {},
   "source": [
    "**Cria um gerador pseudo-aleatório do tipo XOF usando o SHAKE256, gerando uma lista de palavras de 64 bits**"
   ]
  },
  {
   "cell_type": "code",
   "execution_count": 11,
   "metadata": {},
   "outputs": [],
   "source": [
    "def prg(seed):\n",
    "    digest = hashes.Hash(hashes.SHAKE256(BLOCK_SIZE * pow(2,N)))\n",
    "    digest.update(seed)\n",
    "    words = digest.finalize()\n",
    "    return words"
   ]
  },
  {
   "cell_type": "markdown",
   "metadata": {},
   "source": [
    "**Cifra a mensagem através de uma cifra por blocos**"
   ]
  },
  {
   "cell_type": "code",
   "execution_count": 21,
   "metadata": {},
   "outputs": [],
   "source": [
    "def encode(key,message):\n",
    "    ct = b''\n",
    "    padder = padding.PKCS7(64).padder()\n",
    "    # Adiciona padding ao último bloco de bytes da mensagem de modo a esta ter tamanho múltiplo do bloco \n",
    "    padded = padder.update(message) + padder.finalize()\n",
    "    # Divide mensagem em blocos de 8 bytes\n",
    "    p = [padded[i:i+BLOCK_SIZE] for i in range(0, len(padded), BLOCK_SIZE)] \n",
    "    # XOR dos bytes do bloco da mensagem com os bytes do bloco de palavras chave\n",
    "    for x in range (len(p)): # Percorre blocos do texto limpo\n",
    "        for index, byte in enumerate(p[x]): # Percorre bytes do bloco do texto limpo\n",
    "            ct += bytes([byte ^ key[x:(x+1)*BLOCK_SIZE][index]]) \n",
    "    return ct"
   ]
  },
  {
   "cell_type": "markdown",
   "metadata": {},
   "source": [
    "**Decifra a mensagem**"
   ]
  },
  {
   "cell_type": "code",
   "execution_count": 20,
   "metadata": {},
   "outputs": [],
   "source": [
    "def decode(key, ct):\n",
    "    pt = b''\n",
    "    # Divide texto cifrado em blocos de 8 bytes\n",
    "    p = [ct[i:i+BLOCK_SIZE] for i in range(0, len(ct), BLOCK_SIZE)] \n",
    "    # XOR dos bytes do bloco do texto cifrado com os bytes do bloco de palavras chave\n",
    "    for x in range (len(p)): # Percorre blocos do texto cifrado\n",
    "        for index, byte in enumerate(p[x]): # Percorre bytes do bloco do texto cifrado\n",
    "            pt += bytes([byte ^ key[x:(x+1)*BLOCK_SIZE][index]]) \n",
    "    # Algoritmo para retirar padding para decifragem\n",
    "    unpadder = padding.PKCS7(64).unpadder()\n",
    "    # Retira bytes adicionados \n",
    "    unpadded = unpadder.update(pt) + unpadder.finalize()\n",
    "    return unpadded.decode(\"utf-8\")"
   ]
  },
  {
   "cell_type": "markdown",
   "metadata": {},
   "source": [
    "**Teste para a cifra implementada**"
   ]
  },
  {
   "cell_type": "code",
   "execution_count": 19,
   "metadata": {},
   "outputs": [
    {
     "name": "stdin",
     "output_type": "stream",
     "text": [
      "Insira a sua password:  roo\n"
     ]
    },
    {
     "name": "stdout",
     "output_type": "stream",
     "text": [
      "Texto limpo: Segredo\n"
     ]
    }
   ],
   "source": [
    "def main():\n",
    "    password = input(\"Insira a sua password: \")\n",
    "    salt = os.urandom(16)\n",
    "    seed = derivate_key(password.encode(\"utf-8\"), salt)\n",
    "    key = prg(seed)\n",
    "    ct = encode(key, \"Segredo\".encode(\"utf-8\"))\n",
    "    print(\"Texto limpo: \" + decode(key, ct))\n",
    "\n",
    "if __name__ == \"__main__\":\n",
    "    main()"
   ]
  },
  {
   "cell_type": "markdown",
   "metadata": {},
   "source": [
    "## Comparação de resultados\n",
    "\n"
   ]
  },
  {
   "cell_type": "markdown",
   "metadata": {},
   "source": [
    "Para lermos os tempos de maneira análoga, adptamos as classes emitter e receiver de maneira a usar diferentes cifras. Isto pode ser observado através da variável **module_value**"
   ]
  },
  {
   "cell_type": "code",
   "execution_count": 4,
   "metadata": {},
   "outputs": [],
   "source": [
    "import os\n",
    "import crypto\n",
    "import cifra\n",
    "\n",
    "class Emitter:\n",
    "    def __init__(self, password, module):\n",
    "        if module == 1:\n",
    "            module_value = \"crypto\"\n",
    "        else:\n",
    "            module_value = \"cifra\"\n",
    "        self.module = module_value\n",
    "        self.key = None\n",
    "        self.password = password\n",
    "        self.key_salt = os.urandom(16)\n",
    " \n",
    "    def derivate_key(self):\n",
    "        # Parte 1\n",
    "        if self.module == \"crypto\":\n",
    "            key = crypto.derivate_key(self.password.encode('utf-8'), self.key_salt)\n",
    "        # Parte 2\n",
    "        elif self.module == \"cifra\":\n",
    "            seed = cifra.derivate_key(self.password.encode('utf-8'), self.key_salt)\n",
    "            key = cifra.prg(seed)\n",
    "        self.key = key   \n",
    "      \n",
    "    def send_message(self, message):\n",
    "        key_digest = crypto.authenticate_HMAC(self.key, self.key)\n",
    "        # Parte 1\n",
    "        if self.module == \"crypto\":\n",
    "            aad = None # Retirou-se só para a comparação ser mais justa\n",
    "            nonce, ct = crypto.encode(message.encode('utf-8'), aad, self.key)\n",
    "        # Parte 2\n",
    "        elif self.module == \"cifra\":\n",
    "            nonce = b''\n",
    "            ct = cifra.encode(self.key, message.encode(\"utf-8\"))\n",
    "        return key_digest + nonce + self.key_salt + ct"
   ]
  },
  {
   "cell_type": "code",
   "execution_count": 5,
   "metadata": {},
   "outputs": [],
   "source": [
    "import crypto\n",
    "import cifra\n",
    "\n",
    "KEY_DIGEST_LEN = 32 # Bytes\n",
    "NONCE_LEN = 12 # Bytes\n",
    "SALT_LEN = 16 # Bytes\n",
    "\n",
    "class Receiver:\n",
    "    def __init__(self, password,module):\n",
    "        if module == 1:\n",
    "            module_value = \"crypto\"\n",
    "        elif module == 2:\n",
    "            module_value = \"cifra\"\n",
    "        self.module = module_value\n",
    "        self.key = None\n",
    "        self.password = password\n",
    "    \n",
    "    def unpack_data(self, dados):\n",
    "        key_digest = dados[:KEY_DIGEST_LEN] # primeiros 32 bytes -> hash(keyEmitter)\n",
    "        # Parte 1\n",
    "        if self.module == \"crypto\":\n",
    "            nonce = dados[KEY_DIGEST_LEN:KEY_DIGEST_LEN + NONCE_LEN]\n",
    "            salt = dados[KEY_DIGEST_LEN + NONCE_LEN:KEY_DIGEST_LEN + NONCE_LEN + SALT_LEN]\n",
    "            ct = dados[KEY_DIGEST_LEN + NONCE_LEN + SALT_LEN:]\n",
    "        # Parte 2\n",
    "        elif self.module == \"cifra\":\n",
    "            salt = dados[KEY_DIGEST_LEN:KEY_DIGEST_LEN + SALT_LEN]\n",
    "            ct = dados[KEY_DIGEST_LEN + SALT_LEN:]\n",
    "            nonce = None\n",
    "        return key_digest, ct, salt, nonce\n",
    "\n",
    "    def derivate_key(self, dados):\n",
    "        salt = self.unpack_data(dados)[-2]\n",
    "        # Parte 1\n",
    "        if self.module == \"crypto\":\n",
    "            key = crypto.derivate_key(self.password.encode('utf-8'), salt)\n",
    "        # Parte 2\n",
    "        elif self.module == \"cifra\":\n",
    "            seed = cifra.derivate_key(self.password.encode('utf-8'), salt)\n",
    "            key = cifra.prg(seed)\n",
    "        self.key = key\n",
    "\n",
    "    def show_results(self, error, message):\n",
    "        if error == None:\n",
    "            print(\"Texto decifrado: %s\" %message)\n",
    "        elif error == 1:\n",
    "            print(\"Falha na verificação da autenticidade.\")\n",
    "            \n",
    "    def read_message(self, ct):\n",
    "        key_digest, ct, salt, nonce = self.unpack_data(ct)\n",
    "        # Autentica chave\n",
    "        isValid = crypto.verify_HMAC(self.key, self.key, key_digest)\n",
    "        if isValid == False:\n",
    "            raise Exception(\"Falha na autenticidade da chave\") \n",
    "        # Parte 1\n",
    "        if self.module == \"crypto\":\n",
    "            aad = None # Para a comparação ser mais justa\n",
    "            error_code, texto_limpo = crypto.decode(ct, nonce, aad, self.key)\n",
    "        # Parte 2\n",
    "        elif self.module == \"cifra\":\n",
    "            texto_limpo = cifra.decode(self.key, ct)\n",
    "            error_code = None\n",
    "        self.show_results(error_code, texto_limpo)"
   ]
  },
  {
   "cell_type": "markdown",
   "metadata": {},
   "source": [
    "Após isto, utilizamos o time o módulo **time** para medir os tempos usando a comunicação entre os agentes, definida na parte anterior do trabalho"
   ]
  },
  {
   "cell_type": "code",
   "execution_count": 16,
   "metadata": {},
   "outputs": [
    {
     "name": "stdout",
     "output_type": "stream",
     "text": [
      "################################## Algoritmo 1 #########################################\n",
      "\n",
      "Calcular o tempo de execução do algoritmo da parte 1\n",
      "\n"
     ]
    },
    {
     "name": "stdin",
     "output_type": "stream",
     "text": [
      "Insira a sua password:  tiago\n",
      "Insira a sua password:  tiago\n"
     ]
    },
    {
     "name": "stdout",
     "output_type": "stream",
     "text": [
      "Texto decifrado: Segredo 1\n",
      "Tempo de execução: 0.080389 \n",
      "################################## Algoritmo 2 #########################################\n",
      "\n",
      "Calcular o tempo de execução do algoritmo da parte 2 \n",
      "\n"
     ]
    },
    {
     "name": "stdin",
     "output_type": "stream",
     "text": [
      "Insira a sua password:  tiago\n",
      "Insira a sua password:  tiago\n"
     ]
    },
    {
     "name": "stdout",
     "output_type": "stream",
     "text": [
      "Texto decifrado: Segredo 1\n",
      "Tempo de execução: 0.077808 \n"
     ]
    }
   ],
   "source": [
    "import os\n",
    "import time\n",
    "from emitter import Emitter\n",
    "from receiver import Receiver\n",
    "\n",
    "def read_input():\n",
    "    password = input(\"Insira a sua password: \")\n",
    "    return password\n",
    "\n",
    "def main():\n",
    "    print(\"################################## Algoritmo 1 #########################################\\n\")\n",
    "    print(\"Calcular o tempo de execução do algoritmo da parte 1\\n\")\n",
    "    password = read_input()\n",
    "    #Começa a contar o tempo\n",
    "    start = time.perf_counter()\n",
    "    emmiter = Emitter(password,1)\n",
    "    emmiter.derivate_key()\n",
    "    dados = emmiter.send_message(\"Segredo 1\")\n",
    "    #Acaba de contar o tempo\n",
    "    stop = time.perf_counter()\n",
    "    delta_time_1 = stop - start\n",
    "\n",
    "    password = read_input()\n",
    "    #Começa a contar o tempo\n",
    "    start = time.perf_counter()\n",
    "    receiver = Receiver(password,1)\n",
    "    receiver.derivate_key(dados)\n",
    "    try:\n",
    "        receiver.read_message(dados)\n",
    "    except:\n",
    "        print(\"Falha na autenticação da chave\")  \n",
    "    #Acaba de contar o tempo\n",
    "    stop = time.perf_counter()\n",
    "    #Soma dos tempos\n",
    "    delta_time_2 = stop - start\n",
    "    total_time = delta_time_1 + delta_time_2\n",
    "    print(\"Tempo de execução: %f \" %total_time)\n",
    "\n",
    "    print(\"################################## Algoritmo 2 #########################################\\n\")\n",
    "    print(\"Calcular o tempo de execução do algoritmo da parte 2 \\n\")\n",
    "    password = read_input()\n",
    "    #Começa a contar o tempo\n",
    "    start = time.perf_counter()\n",
    "    emmiter = Emitter(password,2)\n",
    "    emmiter.derivate_key()\n",
    "    dados = emmiter.send_message(\"Segredo 1\")\n",
    "    #Acaba de contar o tempo\n",
    "    stop = time.perf_counter()\n",
    "    delta_time_1 = stop - start\n",
    "\n",
    "    password = read_input()\n",
    "    #Começa a contar o tempo\n",
    "    start = time.perf_counter()\n",
    "    receiver = Receiver(password,2)\n",
    "    receiver.derivate_key(dados)\n",
    "    try:\n",
    "        receiver.read_message(dados)\n",
    "    except:\n",
    "        print(\"Falha na autenticação da chave\")  \n",
    "    #Acaba de contar o tempo\n",
    "    stop = time.perf_counter()\n",
    "    #Soma dos tempos\n",
    "    delta_time_2 = stop - start\n",
    "    total_time = delta_time_1 + delta_time_2\n",
    "    print(\"Tempo de execução: %f \" %total_time)\n",
    "\n",
    "if __name__ == \"__main__\":\n",
    "    main()"
   ]
  },
  {
   "cell_type": "markdown",
   "metadata": {},
   "source": [
    "# Conclusão\n",
    "\n",
    "Como podemos observar, os tempos medidos são sempre muito similares. O algoritmo de cifra simétrica no modo AESGCM, realiza juntamente com a cifragem, autenticação de texto. Já a cifra de Vernam oferece apenas confidencialidade. Assim para sistemas mais reais a cifra da parte 1 proporciona confidencialidade, integridade e autenticidade bem como , à partida, não é preciso saber o tamanho das mensagens nem o seu número.\n",
    "\n",
    "A cifra da parte 2 não promove autenticidade nem integridade e restringe o tamanho e o número das mensagens. Esta cifra não é muito menos eficiente que a outra porque se comporta como uma cifra sequencial e estas tendem a ser muito eficientes."
   ]
  }
 ],
 "metadata": {
  "kernelspec": {
   "display_name": "Python 3",
   "language": "python",
   "name": "python3"
  },
  "language_info": {
   "codemirror_mode": {
    "name": "ipython",
    "version": 3
   },
   "file_extension": ".py",
   "mimetype": "text/x-python",
   "name": "python",
   "nbconvert_exporter": "python",
   "pygments_lexer": "ipython3",
   "version": "3.8.6"
  }
 },
 "nbformat": 4,
 "nbformat_minor": 4
}
